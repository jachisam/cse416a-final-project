{
 "cells": [
  {
   "cell_type": "code",
   "execution_count": 43,
   "metadata": {},
   "outputs": [],
   "source": [
    "#code to parse DBLP \n",
    "#ALL THIS CODE FROM: https://github.com/IsaacChanghau/DBLPParser\n",
    "#import wasn't working, but used DBLPParser for all parsing\n",
    "\n",
    "\n",
    "#from dblplib import parse, parse_file\n",
    "import dblplib\n",
    "# from dblplib import parse_file\n",
    "from lxml import etree\n",
    "from datetime import datetime\n",
    "import csv\n",
    "import ujson\n",
    "import codecs\n",
    "import re\n",
    "from github_com.kennethreitz import requests\n",
    "assert requests.get('https://github.com/IsaacChanghau/DBLPParser').status_code == 200\n",
    "\n",
    "\n",
    "# all of the element types in dblp\n",
    "all_elements = {\"article\", \"inproceedings\", \"proceedings\", \"book\", \"incollection\", \"phdthesis\", \"mastersthesis\", \"www\"}\n",
    "# all of the feature types in dblp\n",
    "all_features = {\"address\", \"author\", \"booktitle\", \"cdrom\", \"chapter\", \"cite\", \"crossref\", \"editor\", \"ee\", \"isbn\",\n",
    "                \"journal\", \"month\", \"note\", \"number\", \"pages\", \"publisher\", \"school\", \"series\", \"title\", \"url\",\n",
    "                \"volume\", \"year\"}\n",
    "\n",
    "\n",
    "def log_msg(message):\n",
    "    \"\"\"Produce a log with current time\"\"\"\n",
    "    print(datetime.now().strftime(\"%Y-%m-%d %H:%M:%S\"), message)\n",
    "\n",
    "\n",
    "def context_iter(dblp_path):\n",
    "    \"\"\"Create a dblp data iterator of (event, element) pairs for processing\"\"\"\n",
    "    return etree.iterparse(source=dblp_path, dtd_validation=True, load_dtd=True)  # required dtd\n",
    "\n",
    "\n",
    "def clear_element(element):\n",
    "    \"\"\"Free up memory for temporary element tree after processing the element\"\"\"\n",
    "    element.clear()\n",
    "    while element.getprevious() is not None:\n",
    "        del element.getparent()[0]\n",
    "\n",
    "\n",
    "def count_pages(pages):\n",
    "    \"\"\"Borrowed from: https://github.com/billjh/dblp-iter-parser/blob/master/iter_parser.py\n",
    "    Parse pages string and count number of pages. There might be multiple pages separated by commas.\n",
    "    VALID FORMATS:\n",
    "        51         -> Single number\n",
    "        23-43      -> Range by two numbers\n",
    "    NON-DIGITS ARE ALLOWED BUT IGNORED:\n",
    "        AG83-AG120\n",
    "        90210H     -> Containing alphabets\n",
    "        8e:1-8e:4\n",
    "        11:12-21   -> Containing colons\n",
    "        P1.35      -> Containing dots\n",
    "        S2/109     -> Containing slashes\n",
    "        2-3&4      -> Containing ampersands and more...\n",
    "    INVALID FORMATS:\n",
    "        I-XXI      -> Roman numerals are not recognized\n",
    "        0-         -> Incomplete range\n",
    "        91A-91A-3  -> More than one dash\n",
    "        f          -> No digits\n",
    "    ALGORITHM:\n",
    "        1) Split the string by comma evaluated each part with (2).\n",
    "        2) Split the part to subparts by dash. If more than two subparts, evaluate to zero. If have two subparts,\n",
    "           evaluate by (3). If have one subpart, evaluate by (4).\n",
    "        3) For both subparts, convert to number by (4). If not successful in either subpart, return zero. Subtract first\n",
    "           to second, if negative, return zero; else return (second - first + 1) as page count.\n",
    "        4) Search for number consist of digits. Only take the last one (P17.23 -> 23). Return page count as 1 for (2)\n",
    "           if find; 0 for (2) if not find. Return the number for (3) if find; -1 for (3) if not find.\n",
    "    \"\"\"\n",
    "    cnt = 0\n",
    "    for part in re.compile(r\",\").split(pages):\n",
    "        subparts = re.compile(r\"-\").split(part)\n",
    "        if len(subparts) > 2:\n",
    "            continue\n",
    "        else:\n",
    "            try:\n",
    "                re_digits = re.compile(r\"[\\d]+\")\n",
    "                subparts = [int(re_digits.findall(sub)[-1]) for sub in subparts]\n",
    "            except IndexError:\n",
    "                continue\n",
    "            cnt += 1 if len(subparts) == 1 else subparts[1] - subparts[0] + 1\n",
    "    return \"\" if cnt == 0 else str(cnt)\n",
    "\n",
    "\n",
    "def extract_feature(elem, features, include_key=False):\n",
    "    \"\"\"Extract the value of each feature\"\"\"\n",
    "    if include_key:\n",
    "        attribs = {'key': [elem.attrib['key']]}\n",
    "    else:\n",
    "        attribs = {}\n",
    "    for feature in features:\n",
    "        attribs[feature] = []\n",
    "    for sub in elem:\n",
    "        if sub.tag not in features:\n",
    "            continue\n",
    "        if sub.tag == 'title':\n",
    "            text = re.sub(\"<.*?>\", \"\", etree.tostring(sub).decode('utf-8')) if sub.text is None else sub.text\n",
    "        elif sub.tag == 'pages':\n",
    "            text = count_pages(sub.text)\n",
    "        else:\n",
    "            text = sub.text\n",
    "        if text is not None and len(text) > 0:\n",
    "            attribs[sub.tag] = attribs.get(sub.tag) + [text]\n",
    "    return attribs\n",
    "\n",
    "\n",
    "def parse_all(dblp_path, save_path, include_key=False):\n",
    "    log_msg(\"PROCESS: Start parsing...\")\n",
    "    f = open(save_path, 'w', encoding='utf8')\n",
    "    for _, elem in context_iter(dblp_path):\n",
    "        if elem.tag in all_elements:\n",
    "            attrib_values = extract_feature(elem, all_features, include_key)\n",
    "            f.write(str(attrib_values) + '\\n')\n",
    "        clear_element(elem)\n",
    "    f.close()\n",
    "    log_msg(\"FINISHED...\")  # load the saved results line by line using json\n",
    "\n",
    "\n",
    "def parse_entity(dblp_path, save_path, type_name, features=None, save_to_csv=False, include_key=False):\n",
    "    \"\"\"Parse specific elements according to the given type name and features\"\"\"\n",
    "    log_msg(\"PROCESS: Start parsing for {}...\".format(str(type_name)))\n",
    "    assert features is not None, \"features must be assigned before parsing the dblp dataset\"\n",
    "    results = []\n",
    "    attrib_count, full_entity, part_entity = {}, 0, 0\n",
    "    for _, elem in context_iter(dblp_path):\n",
    "        if elem.tag in type_name:\n",
    "            attrib_values = extract_feature(elem, features, include_key)  # extract required features\n",
    "            results.append(attrib_values)  # add record to results array\n",
    "            for key, value in attrib_values.items():\n",
    "                attrib_count[key] = attrib_count.get(key, 0) + len(value)\n",
    "            cnt = sum([1 if len(x) > 0 else 0 for x in list(attrib_values.values())])\n",
    "            if cnt == len(features):\n",
    "                full_entity += 1\n",
    "            else:\n",
    "                part_entity += 1\n",
    "        elif elem.tag not in all_elements:\n",
    "            continue\n",
    "        clear_element(elem)\n",
    "    if save_to_csv:\n",
    "        f = open(save_path, 'w', newline='', encoding='utf8')\n",
    "        writer = csv.writer(f, delimiter=',')\n",
    "        writer.writerow(features)  # write title\n",
    "        for record in results:\n",
    "            # some features contain multiple values (e.g.: author), concatenate with `::`\n",
    "            row = ['::'.join(v) for v in list(record.values())]\n",
    "            writer.writerow(row)\n",
    "        f.close()\n",
    "    else:  # default save to json file\n",
    "        with codecs.open(save_path, mode='w', encoding='utf8', errors='ignore') as f:\n",
    "            ujson.dump(results, f)\n",
    "    return full_entity, part_entity, attrib_count\n",
    "\n",
    "\n",
    "def parse_author(dblp_path, save_path, save_to_csv=False):\n",
    "    type_name = ['article', 'book', 'incollection', 'inproceedings']\n",
    "    log_msg(\"PROCESS: Start parsing for {}...\".format(str(type_name)))\n",
    "    authors = set()\n",
    "    for _, elem in context_iter(dblp_path):\n",
    "        if elem.tag in type_name:\n",
    "            authors.update(a.text for a in elem.findall('author'))\n",
    "        elif elem.tag not in all_elements:\n",
    "            continue\n",
    "        clear_element(elem)\n",
    "    if save_to_csv:\n",
    "        f = open(save_path, 'w', newline='', encoding='utf8')\n",
    "        writer = csv.writer(f, delimiter=',')\n",
    "        writer.writerows([a] for a in sorted(authors))\n",
    "        f.close()\n",
    "    else:\n",
    "        with open(save_path, 'w', encoding='utf8') as f:\n",
    "            f.write('\\n'.join(sorted(authors)))\n",
    "    log_msg(\"FINISHED...\")\n",
    "\n",
    "\n",
    "def parse_article(dblp_path, save_path, save_to_csv=False, include_key=False):\n",
    "    type_name = ['article']\n",
    "    features = ['title', 'author', 'year', 'journal', 'pages']\n",
    "    info = parse_entity(dblp_path, save_path, type_name, features, save_to_csv=save_to_csv, include_key=include_key)\n",
    "    log_msg('Total articles found: {}, articles contain all features: {}, articles contain part of features: {}'\n",
    "            .format(info[0] + info[1], info[0], info[1]))\n",
    "    log_msg(\"Features information: {}\".format(str(info[2])))\n",
    "\n",
    "\n",
    "def parse_inproceedings(dblp_path, save_path, save_to_csv=False, include_key=False):\n",
    "    type_name = [\"inproceedings\"]\n",
    "    features = ['title', 'author', 'year', 'pages', 'booktitle']\n",
    "    info = parse_entity(dblp_path, save_path, type_name, features, save_to_csv=save_to_csv, include_key=include_key)\n",
    "    log_msg('Total inproceedings found: {}, inproceedings contain all features: {}, inproceedings contain part of '\n",
    "            'features: {}'.format(info[0] + info[1], info[0], info[1]))\n",
    "    log_msg(\"Features information: {}\".format(str(info[2])))\n",
    "\n",
    "\n",
    "def parse_proceedings(dblp_path, save_path, save_to_csv=False, include_key=False):\n",
    "    type_name = [\"proceedings\"]\n",
    "    features = ['title', 'editor', 'year', 'booktitle', 'series', 'publisher']\n",
    "    # Other features are 'volume','isbn' and 'url'.\n",
    "    info = parse_entity(dblp_path, save_path, type_name, features, save_to_csv=save_to_csv, include_key=include_key)\n",
    "    log_msg('Total proceedings found: {}, proceedings contain all features: {}, proceedings contain part of '\n",
    "            'features: {}'.format(info[0] + info[1], info[0], info[1]))\n",
    "    log_msg(\"Features information: {}\".format(str(info[2])))\n",
    "\n",
    "\n",
    "def parse_book(dblp_path, save_path, save_to_csv=False, include_key=False):\n",
    "    type_name = [\"book\"]\n",
    "    features = ['title', 'author', 'publisher', 'isbn', 'year', 'pages']\n",
    "    info = parse_entity(dblp_path, save_path, type_name, features, save_to_csv=save_to_csv, include_key=include_key)\n",
    "    log_msg('Total books found: {}, books contain all features: {}, books contain part of features: {}'\n",
    "            .format(info[0] + info[1], info[0], info[1]))\n",
    "    log_msg(\"Features information: {}\".format(str(info[2])))\n",
    "\n",
    "\n",
    "def parse_publications(dblp_path, save_path, save_to_csv=False, include_key=False):\n",
    "    type_name = ['article', 'book', 'incollection', 'inproceedings']\n",
    "    features = ['title', 'year', 'pages']\n",
    "    info = parse_entity(dblp_path, save_path, type_name, features, save_to_csv=save_to_csv, include_key=include_key)\n",
    "    log_msg('Total publications found: {}, publications contain all features: {}, publications contain part of '\n",
    "            'features: {}'.format(info[0] + info[1], info[0], info[1]))\n",
    "    log_msg(\"Features information: {}\".format(str(info[2])))\n",
    "\n",
    "\n",
    "dblp_path = '/Users/daniellelarson/cse416/final/dblp-2019-11-01.xml'\n",
    "save_path = '/Users/daniellelarson/cse416/final/article.json'\n"
   ]
  },
  {
   "cell_type": "code",
   "execution_count": 45,
   "metadata": {},
   "outputs": [
    {
     "name": "stdout",
     "output_type": "stream",
     "text": [
      "2019-12-01 23:46:11 LOG: Successfully loaded \"/Users/daniellelarson/cse416/final/dblp-2019-11-01.xml\".\n",
      "2019-12-01 23:46:11 PROCESS: Start parsing for ['article']...\n",
      "2019-12-01 23:49:00 Total articles found: 2137512, articles contain all features: 1815958, articles contain part of features: 321554\n",
      "2019-12-01 23:49:00 Features information: {'title': 2137512, 'author': 6264506, 'year': 2137509, 'journal': 2137285, 'pages': 1824941}\n",
      "CPU times: user 2min 43s, sys: 4.53 s, total: 2min 48s\n",
      "Wall time: 2min 49s\n"
     ]
    }
   ],
   "source": [
    "%%time\n",
    "try:\n",
    "    context_iter(dblp_path)\n",
    "    log_msg(\"LOG: Successfully loaded \\\"{}\\\".\".format(dblp_path))\n",
    "except IOError:\n",
    "    log_msg(\"ERROR: Failed to load file \\\"{}\\\". Please check your XML and DTD files.\".format(dblp_path))\n",
    "    exit()\n",
    "parse_article(dblp_path, save_path, save_to_csv=False)  # default save as json format"
   ]
  },
  {
   "cell_type": "code",
   "execution_count": 46,
   "metadata": {},
   "outputs": [
    {
     "name": "stdout",
     "output_type": "stream",
     "text": [
      "2019-12-02 00:04:08 LOG: Successfully loaded \"/Users/daniellelarson/cse416/final/dblp-2019-11-01.xml\".\n",
      "2019-12-02 00:04:08 PROCESS: Start parsing for ['article']...\n",
      "2019-12-02 00:07:00 Total articles found: 2137512, articles contain all features: 1815958, articles contain part of features: 321554\n",
      "2019-12-02 00:07:00 Features information: {'title': 2137512, 'author': 6264506, 'year': 2137509, 'journal': 2137285, 'pages': 1824941}\n",
      "CPU times: user 2min 46s, sys: 4.21 s, total: 2min 51s\n",
      "Wall time: 2min 51s\n"
     ]
    }
   ],
   "source": [
    "%%time\n",
    "save_path = '/Users/daniellelarson/cse416/final/article.csv'\n",
    "try:\n",
    "    context_iter(dblp_path)\n",
    "    log_msg(\"LOG: Successfully loaded \\\"{}\\\".\".format(dblp_path))\n",
    "except IOError:\n",
    "    log_msg(\"ERROR: Failed to load file \\\"{}\\\". Please check your XML and DTD files.\".format(dblp_path))\n",
    "    exit()\n",
    "parse_article(dblp_path, save_path, save_to_csv=True)  # default save as json format"
   ]
  },
  {
   "cell_type": "code",
   "execution_count": 41,
   "metadata": {},
   "outputs": [
    {
     "name": "stdout",
     "output_type": "stream",
     "text": [
      "CPU times: user 11.6 s, sys: 3.28 s, total: 14.8 s\n",
      "Wall time: 16.8 s\n"
     ]
    }
   ],
   "source": [
    "%%time\n",
    "\n",
    "#load in from csv \n",
    " \n",
    "import csv\n",
    "\n",
    "with open('/Users/daniellelarson/cse416/final/edges_no_title.csv', 'r') as f:\n",
    "  reader = csv.reader(f)\n",
    "  edges = list(reader)"
   ]
  },
  {
   "cell_type": "code",
   "execution_count": 46,
   "metadata": {},
   "outputs": [
    {
     "name": "stdout",
     "output_type": "stream",
     "text": [
      "CPU times: user 1min 24s, sys: 34 s, total: 1min 58s\n",
      "Wall time: 2min 18s\n"
     ]
    }
   ],
   "source": [
    "%%time\n",
    "\n",
    "#create the original file with the gendered items\n",
    " \n",
    "#used gender_guesser (cited in paper)\n",
    "from genderize import Genderize\n",
    "import gender_guesser.detector as gender\n",
    "d = gender.Detector()\n",
    "genders = []\n",
    "count = 0\n",
    "for e in edges:\n",
    "    name1 = e[0]\n",
    "    name2 = e[1]\n",
    "    first1 = name1.split(' ', 1)[0]\n",
    "    first2 = name2.split(' ', 1)[0]\n",
    "    #print(first1)\n",
    "    #print(first2)\n",
    "    g1 = d.get_gender(first1)\n",
    "    g2 = d.get_gender(first2)\n",
    "    #print(g1)\n",
    "    #print(g2)\n",
    "    d1 = {\"name\": name1, \"gender\": g1} \n",
    "    d2 = {\"name\": name2, \"gender\": g2} \n",
    "    genders.append([d1,d2])"
   ]
  },
  {
   "cell_type": "code",
   "execution_count": 47,
   "metadata": {},
   "outputs": [],
   "source": [
    "\n",
    "import json\n",
    "with open('/Users/daniellelarson/cse416/final/no_title_edges_with_gender', 'w') as fout:\n",
    "    json.dump(genders, fout)"
   ]
  },
  {
   "cell_type": "code",
   "execution_count": 49,
   "metadata": {},
   "outputs": [],
   "source": [
    "#create csv\n",
    "import csv\n",
    "\n",
    "with open(\"no_title_edges_with_gender.csv\", \"w\", newline=\"\") as f:\n",
    "    writer = csv.writer(f)\n",
    "    writer.writerows(genders)"
   ]
  },
  {
   "cell_type": "code",
   "execution_count": 75,
   "metadata": {},
   "outputs": [
    {
     "name": "stdout",
     "output_type": "stream",
     "text": [
      "CPU times: user 48.6 s, sys: 8min 1s, total: 8min 50s\n",
      "Wall time: 30min 13s\n"
     ]
    }
   ],
   "source": [
    "%%time\n",
    "\n",
    "\n",
    "#create base graph\n",
    "\n",
    "import networkx as nx\n",
    "G=nx.Graph()\n",
    "G.add_edges_from(edges)"
   ]
  },
  {
   "cell_type": "code",
   "execution_count": 76,
   "metadata": {},
   "outputs": [
    {
     "name": "stdout",
     "output_type": "stream",
     "text": [
      "CPU times: user 2min 19s, sys: 2min 38s, total: 4min 57s\n",
      "Wall time: 11min 24s\n"
     ]
    }
   ],
   "source": [
    "%%time\n",
    "\n",
    "\n",
    "#assign genders to edges\n",
    "for e in edges:\n",
    "    name1 = e[0]\n",
    "    name2 = e[1]\n",
    "    first1 = name1.split(' ', 1)[0]\n",
    "    first2 = name2.split(' ', 1)[0]\n",
    "    #print(first1)\n",
    "    #print(first2)\n",
    "    g1 = d.get_gender(first1)\n",
    "    g2 = d.get_gender(first2)\n",
    "    #print(g1)\n",
    "    #print(g2)\n",
    "    if (g1 == g2) :\n",
    "        if(str(g1) == \"male\"):\n",
    "            G[name1][name2]['gender'] = 'blue'\n",
    "        else:\n",
    "            G[name1][name2]['gender'] = 'pink'\n",
    "    else:\n",
    "        G[name1][name2]['gender'] = 'purple'\n",
    "        \n",
    "    "
   ]
  },
  {
   "cell_type": "code",
   "execution_count": 77,
   "metadata": {},
   "outputs": [
    {
     "name": "stdout",
     "output_type": "stream",
     "text": [
      "CPU times: user 14.9 s, sys: 43.9 s, total: 58.8 s\n",
      "Wall time: 3min 16s\n"
     ]
    }
   ],
   "source": [
    "%%time\n",
    "\n",
    "\n",
    "\n",
    "#label nodes\n",
    "\n",
    "\n",
    "\n",
    "#assigning genders to nodes\n",
    "for n in G.nodes():\n",
    "    first = n.split(' ', 1)[0]\n",
    "    G.nodes[n]['gender'] = d.get_gender(first)"
   ]
  },
  {
   "cell_type": "code",
   "execution_count": 78,
   "metadata": {},
   "outputs": [
    {
     "name": "stdout",
     "output_type": "stream",
     "text": [
      "1522944\n",
      "942342\n",
      "CPU times: user 24.6 s, sys: 8min 7s, total: 8min 32s\n",
      "Wall time: 27min 22s\n"
     ]
    }
   ],
   "source": [
    "%%time\n",
    "\n",
    "\n",
    "\n",
    "\n",
    "#removing unknown or andy\n",
    "nodes = []\n",
    "nodes = G.nodes()\n",
    "delNodes = []\n",
    "print(G.number_of_nodes())\n",
    "for n in nodes:\n",
    "    if str(G.nodes[n]['gender']) == \"andy\" :\n",
    "        delNodes.append(n)\n",
    "    elif str(G.nodes[n]['gender']) == \"unknown\":\n",
    "        delNodes.append(n)\n",
    "        \n",
    "G.remove_nodes_from(delNodes)\n",
    "print(G.number_of_nodes())"
   ]
  },
  {
   "cell_type": "code",
   "execution_count": 83,
   "metadata": {},
   "outputs": [
    {
     "name": "stdout",
     "output_type": "stream",
     "text": [
      "CPU times: user 3.85 s, sys: 1min 13s, total: 1min 17s\n",
      "Wall time: 3min 54s\n"
     ]
    },
    {
     "data": {
      "text/plain": [
       "Text(0, 0.5, 'P(k)')"
      ]
     },
     "execution_count": 83,
     "metadata": {},
     "output_type": "execute_result"
    },
    {
     "data": {
      "image/png": "[encoded data removed]",
      "text/plain": [
       "<Figure size 432x288 with 1 Axes>"
      ]
     },
     "metadata": {
      "needs_background": "light"
     },
     "output_type": "display_data"
    }
   ],
   "source": [
    "%%time \n",
    "\n",
    "import collections as c\n",
    "import matplotlib.pyplot as plt\n",
    "\n",
    "nodes = G.nodes()\n",
    "graph_nodes = {}\n",
    "for d in G.degree():\n",
    "    graph_nodes[d[0]] = int(d[1])\n",
    "\n",
    "k, pk = zip(*c.Counter(graph_nodes.values()).items())\n",
    "\n",
    "plt.figure(0)\n",
    "plt.loglog(k,pk, marker = \"o\", linewidth = 0)\n",
    "plt.title(\"Degree Distribution\")\n",
    "plt.xlabel(\"degree (k)\")\n",
    "plt.ylabel(\"P(k)\")"
   ]
  },
  {
   "cell_type": "code",
   "execution_count": 84,
   "metadata": {},
   "outputs": [],
   "source": [
    "females = []\n",
    "males = []\n",
    "for n in G.nodes():\n",
    "    if (str(G.nodes[n]['gender']) == \"female\"):\n",
    "        females.append(n)\n",
    "    else:\n",
    "        males.append(n)"
   ]
  },
  {
   "cell_type": "code",
   "execution_count": 87,
   "metadata": {},
   "outputs": [
    {
     "name": "stdout",
     "output_type": "stream",
     "text": [
      "CPU times: user 5.08 s, sys: 21.8 s, total: 26.9 s\n",
      "Wall time: 1min 9s\n"
     ]
    },
    {
     "data": {
      "text/plain": [
       "Text(0, 0.5, 'P(k)')"
      ]
     },
     "execution_count": 87,
     "metadata": {},
     "output_type": "execute_result"
    },
    {
     "data": {
      "image/png": "[encoded data removed]",
      "text/plain": [
       "<Figure size 432x288 with 1 Axes>"
      ]
     },
     "metadata": {
      "needs_background": "light"
     },
     "output_type": "display_data"
    }
   ],
   "source": [
    "%%time\n",
    "\n",
    "female_graph_nodes = {}\n",
    "male_graph_nodes = {}\n",
    "for d in G.degree():\n",
    "    if (str(G.nodes[d[0]]['gender']) == \"female\"):\n",
    "        female_graph_nodes[d[0]] = int(d[1])\n",
    "    else:\n",
    "        male_graph_nodes[d[0]] = int(d[1])\n"
   ]
  },
  {
   "cell_type": "code",
   "execution_count": 90,
   "metadata": {},
   "outputs": [
    {
     "data": {
      "text/plain": [
       "Text(0, 0.5, 'P(k)')"
      ]
     },
     "execution_count": 90,
     "metadata": {},
     "output_type": "execute_result"
    },
    {
     "data": {
      "image/png": "[encoded data removed]",
      "text/plain": [
       "<Figure size 432x288 with 1 Axes>"
      ]
     },
     "metadata": {
      "needs_background": "light"
     },
     "output_type": "display_data"
    }
   ],
   "source": [
    "k1, pk1 = zip(*c.Counter(female_graph_nodes.values()).items())\n",
    "k2, pk2 = zip(*c.Counter(male_graph_nodes.values()).items())\n",
    "\n",
    "plt.figure(1)\n",
    "plt.loglog(k1,pk1, marker = \"o\", linewidth = 0, color =\"pink\")\n",
    "plt.loglog(k2,pk2, marker = \"o\", linewidth = 0, color =\"blue\")\n",
    "plt.title(\"Degree Distribution\")\n",
    "plt.xlabel(\"degree (k)\")\n",
    "plt.ylabel(\"P(k)\")"
   ]
  },
  {
   "cell_type": "code",
   "execution_count": 115,
   "metadata": {},
   "outputs": [
    {
     "name": "stdout",
     "output_type": "stream",
     "text": [
      "578\n",
      "942342\n",
      "CPU times: user 29.6 s, sys: 8.52 s, total: 38.1 s\n",
      "Wall time: 45.6 s\n"
     ]
    }
   ],
   "source": [
    "%%time\n",
    "degree_sequence = sorted([d for n, d in G.degree()], reverse=True)\n",
    "\n",
    "dmax = max(degree_sequence)\n",
    "coord = []\n",
    "print(dmax)\n",
    "num = G.number_of_nodes()\n",
    "print(num)\n",
    "\n",
    "for x in range(dmax):\n",
    "    y = 0\n",
    "    for i in female_graph_nodes:\n",
    "        if (female_graph_nodes[i] >= x):\n",
    "            y = y + 1\n",
    "    y = y/num * 100\n",
    "    coord.append([x,y])"
   ]
  },
  {
   "cell_type": "code",
   "execution_count": 116,
   "metadata": {},
   "outputs": [
    {
     "name": "stdout",
     "output_type": "stream",
     "text": [
      "CPU times: user 1min 58s, sys: 1.4 s, total: 1min 59s\n",
      "Wall time: 2min 1s\n"
     ]
    }
   ],
   "source": [
    "%%time\n",
    "coord1 = []\n",
    "for x1 in range(dmax):\n",
    "    y1 = 0\n",
    "    for i in male_graph_nodes:\n",
    "        if (male_graph_nodes[i] >= x1):\n",
    "            y1 = y1 + 1\n",
    "    y1 = y1/num * 100\n",
    "    coord1.append([x1,y1])"
   ]
  },
  {
   "cell_type": "code",
   "execution_count": 117,
   "metadata": {},
   "outputs": [
    {
     "data": {
      "text/plain": [
       "Text(0, 0.5, 'Percent')"
      ]
     },
     "execution_count": 117,
     "metadata": {},
     "output_type": "execute_result"
    },
    {
     "data": {
      "image/png": "[encoded data removed]",
      "text/plain": [
       "<Figure size 432x288 with 1 Axes>"
      ]
     },
     "metadata": {
      "needs_background": "light"
     },
     "output_type": "display_data"
    }
   ],
   "source": [
    "plt.figure(2)\n",
    "x1 = [x[0] for x in coord]\n",
    "y1 = [x[1] for x in coord]\n",
    "x2 = [x1[0] for x1 in coord1]\n",
    "y2 = [x1[1] for x1 in coord1]\n",
    "plt.loglog(x1,y1, marker = \"o\", linewidth = 0, color =\"pink\")\n",
    "plt.loglog(x2,y2, marker = \"x\", linewidth = 0, color =\"blue\")\n",
    "plt.title(\"Percent of nodes of x degree\")\n",
    "plt.xlabel(\"degree (k)\")\n",
    "plt.ylabel(\"Percent\")"
   ]
  },
  {
   "cell_type": "code",
   "execution_count": 118,
   "metadata": {},
   "outputs": [
    {
     "name": "stdout",
     "output_type": "stream",
     "text": [
      "578\n",
      "578\n"
     ]
    }
   ],
   "source": [
    "print(len(coord))\n",
    "print(len(coord1))"
   ]
  },
  {
   "cell_type": "code",
   "execution_count": 119,
   "metadata": {},
   "outputs": [
    {
     "name": "stdout",
     "output_type": "stream",
     "text": [
      "578\n"
     ]
    }
   ],
   "source": [
    "print(dmax)"
   ]
  },
  {
   "cell_type": "code",
   "execution_count": 134,
   "metadata": {},
   "outputs": [
    {
     "name": "stdout",
     "output_type": "stream",
     "text": [
      "CPU times: user 52.2 s, sys: 6min 31s, total: 7min 23s\n",
      "Wall time: 20min 49s\n"
     ]
    }
   ],
   "source": [
    "%%time\n",
    "\n",
    "#start the filtering by keywords\n",
    "\n",
    "import csv\n",
    "import sys\n",
    "#https://stackoverflow.com/questions/15063936/csv-error-field-larger-than-field-limit-131072\n",
    "csv.field_size_limit(sys.maxsize)\n",
    "edges_title = []\n",
    "with open('/Users/daniellelarson/cse416/final/edges_with_title.csv', 'r') as f:\n",
    "  reader = csv.reader(f)\n",
    "  edges_title = list(reader)\n"
   ]
  },
  {
   "cell_type": "code",
   "execution_count": 219,
   "metadata": {},
   "outputs": [
    {
     "name": "stdout",
     "output_type": "stream",
     "text": [
      "yay\n",
      "12923\n",
      "12923\n",
      "CPU times: user 10.1 s, sys: 27.1 s, total: 37.2 s\n",
      "Wall time: 2min 6s\n"
     ]
    }
   ],
   "source": [
    "%%time\n",
    "#filter for AI/ML topics\n",
    "ml_edges = []\n",
    "\n",
    "count = 0\n",
    "for edge in edges_title:\n",
    "    try:\n",
    "        if 'machine learning' in edge[2]: \n",
    "            ml_edges.append([edge[0],edge[1]])\n",
    "        elif 'ai' in edge[2]:\n",
    "            ml_edges.append([edge[0],edge[1]])\n",
    "        elif 'artifical intelligence' in edge[2]:\n",
    "            ml_edges.append([edge[0],edge[1]])\n",
    "        elif 'deep learning' in edge[2]:\n",
    "            ml_edges.append([edge[0],edge[1]])\n",
    "        elif 'neural net' in edge[2]:\n",
    "            ml_edges.append([edge[0],edge[1]])\n",
    "    except: \n",
    "        #bad entry do nothing\n",
    "        count = count + 1\n",
    "print(count)\n",
    "#filter for systems security (for a smaller graph)\n",
    "ss_edges = []\n",
    "count = 0\n",
    "for edge in edges_title:\n",
    "    try:\n",
    "        if 'security' in edge[2]: \n",
    "            ss_edges.append([edge[0],edge[1]])\n",
    "    except:\n",
    "        count = count + 1\n",
    "print(count)"
   ]
  },
  {
   "cell_type": "code",
   "execution_count": 220,
   "metadata": {},
   "outputs": [
    {
     "name": "stdout",
     "output_type": "stream",
     "text": [
      "CPU times: user 4.53 s, sys: 29.9 s, total: 34.4 s\n",
      "Wall time: 3min 23s\n"
     ]
    }
   ],
   "source": [
    "%%time\n",
    "#create new graphs\n",
    "ml=nx.Graph()\n",
    "ml.add_edges_from(ml_edges)\n",
    "\n",
    "ss=nx.Graph()\n",
    "ss.add_edges_from(ss_edges)"
   ]
  },
  {
   "cell_type": "code",
   "execution_count": 221,
   "metadata": {},
   "outputs": [
    {
     "name": "stdout",
     "output_type": "stream",
     "text": [
      "CPU times: user 3.73 s, sys: 10.8 s, total: 14.6 s\n",
      "Wall time: 1min 6s\n"
     ]
    }
   ],
   "source": [
    "%%time\n",
    "#assign genders to node\n",
    "d = gender.Detector()\n",
    "for n in ml.nodes():\n",
    "    first = n.split(' ', 1)[0]\n",
    "    ml.nodes[n]['gender'] = d.get_gender(first)\n",
    "\n",
    "for n in ss.nodes():\n",
    "    first = n.split(' ', 1)[0]\n",
    "    ss.nodes[n]['gender'] = d.get_gender(first)"
   ]
  },
  {
   "cell_type": "code",
   "execution_count": 222,
   "metadata": {},
   "outputs": [
    {
     "name": "stdout",
     "output_type": "stream",
     "text": [
      "323195\n",
      "194299\n",
      "407759\n",
      "13078\n",
      "7883\n",
      "11032\n",
      "CPU times: user 2.96 s, sys: 19.4 s, total: 22.4 s\n",
      "Wall time: 1min 29s\n"
     ]
    }
   ],
   "source": [
    "%%time\n",
    "#remove badly gendered nodes\n",
    "nodes = []\n",
    "nodes = ml.nodes()\n",
    "delNodes = []\n",
    "print(ml.number_of_nodes())\n",
    "for n in nodes:\n",
    "    if str(ml.nodes[n]['gender']) == \"andy\" :\n",
    "        delNodes.append(n)\n",
    "    elif str(ml.nodes[n]['gender']) == \"unknown\":\n",
    "        delNodes.append(n)\n",
    "        \n",
    "ml.remove_nodes_from(delNodes)\n",
    "print(ml.number_of_nodes())\n",
    "print(ml.number_of_edges())\n",
    "\n",
    "\n",
    "nodes = []\n",
    "nodes = ss.nodes()\n",
    "delNodes = []\n",
    "print(ss.number_of_nodes())\n",
    "for n in nodes:\n",
    "    if str(ss.nodes[n]['gender']) == \"andy\" :\n",
    "        delNodes.append(n)\n",
    "    elif str(ss.nodes[n]['gender']) == \"unknown\":\n",
    "        delNodes.append(n)\n",
    "        \n",
    "ss.remove_nodes_from(delNodes)\n",
    "print(ss.number_of_nodes())\n",
    "print(ss.number_of_edges())"
   ]
  },
  {
   "cell_type": "code",
   "execution_count": 223,
   "metadata": {},
   "outputs": [
    {
     "name": "stdout",
     "output_type": "stream",
     "text": [
      "CPU times: user 840 ms, sys: 2.59 s, total: 3.43 s\n",
      "Wall time: 7.38 s\n"
     ]
    },
    {
     "data": {
      "text/plain": [
       "Text(0, 0.5, 'P(k)')"
      ]
     },
     "execution_count": 223,
     "metadata": {},
     "output_type": "execute_result"
    },
    {
     "data": {
      "image/png": "[encoded data removed]",
      "text/plain": [
       "<Figure size 432x288 with 1 Axes>"
      ]
     },
     "metadata": {
      "needs_background": "light"
     },
     "output_type": "display_data"
    }
   ],
   "source": [
    "%%time\n",
    "#for ml graph degree dist\n",
    "\n",
    "ml_female_graph_nodes = {}\n",
    "ml_male_graph_nodes = {}\n",
    "for d in ml.degree():\n",
    "    if (str(ml.nodes[d[0]]['gender']) == \"female\"):\n",
    "        ml_female_graph_nodes[d[0]] = int(d[1])\n",
    "    else:\n",
    "        ml_male_graph_nodes[d[0]] = int(d[1])\n",
    "        \n",
    "k1, pk1 = zip(*c.Counter(ml_female_graph_nodes.values()).items())\n",
    "k2, pk2 = zip(*c.Counter(ml_male_graph_nodes.values()).items())\n",
    "\n",
    "plt.figure(3)\n",
    "plt.loglog(k1,pk1, marker = \"o\", linewidth = 0, color =\"pink\")\n",
    "plt.loglog(k2,pk2, marker = \"o\", linewidth = 0, color =\"blue\")\n",
    "plt.title(\"AI/ML Degree Distribution\")\n",
    "plt.xlabel(\"degree (k)\")\n",
    "plt.ylabel(\"P(k)\")"
   ]
  },
  {
   "cell_type": "code",
   "execution_count": 224,
   "metadata": {},
   "outputs": [
    {
     "name": "stdout",
     "output_type": "stream",
     "text": [
      "CPU times: user 37.3 ms, sys: 55.5 ms, total: 92.8 ms\n",
      "Wall time: 114 ms\n"
     ]
    },
    {
     "data": {
      "text/plain": [
       "Text(0, 0.5, 'P(k)')"
      ]
     },
     "execution_count": 224,
     "metadata": {},
     "output_type": "execute_result"
    },
    {
     "data": {
      "image/png": "[encoded data removed]",
      "text/plain": [
       "<Figure size 432x288 with 1 Axes>"
      ]
     },
     "metadata": {
      "needs_background": "light"
     },
     "output_type": "display_data"
    }
   ],
   "source": [
    "%%time\n",
    "#for ss graph degree dist\n",
    "\n",
    "ss_female_graph_nodes = {}\n",
    "ss_male_graph_nodes = {}\n",
    "for d in ss.degree():\n",
    "    if (str(ss.nodes[d[0]]['gender']) == \"female\"):\n",
    "        ss_female_graph_nodes[d[0]] = int(d[1])\n",
    "    else:\n",
    "        ss_male_graph_nodes[d[0]] = int(d[1])\n",
    "        \n",
    "k1, pk1 = zip(*c.Counter(ss_female_graph_nodes.values()).items())\n",
    "k2, pk2 = zip(*c.Counter(ss_male_graph_nodes.values()).items())\n",
    "\n",
    "plt.figure(4)\n",
    "plt.loglog(k1,pk1, marker = \"o\", linewidth = 0, color =\"pink\")\n",
    "plt.loglog(k2,pk2, marker = \"o\", linewidth = 0, color =\"blue\")\n",
    "plt.title(\"Systems Security Degree Distribution\")\n",
    "plt.xlabel(\"degree (k)\")\n",
    "plt.ylabel(\"P(k)\")"
   ]
  },
  {
   "cell_type": "code",
   "execution_count": 225,
   "metadata": {},
   "outputs": [
    {
     "name": "stdout",
     "output_type": "stream",
     "text": [
      "269\n",
      "194299\n",
      "CPU times: user 13.9 s, sys: 983 ms, total: 14.9 s\n",
      "Wall time: 15.1 s\n"
     ]
    }
   ],
   "source": [
    "%%time\n",
    "\n",
    "#percent x degree ml \n",
    "\n",
    "\n",
    "degree_sequence = sorted([d for n, d in ml.degree()], reverse=True)\n",
    "# print \"Degree sequence\", degree_sequence\n",
    "dmax = max(degree_sequence)\n",
    "coord = []\n",
    "print(dmax)\n",
    "num = ml.number_of_nodes()\n",
    "print(num)\n",
    "\n",
    "for x in range(dmax):\n",
    "    y = 0\n",
    "    for i in ml_female_graph_nodes:\n",
    "        if (ml_female_graph_nodes[i] >= x):\n",
    "            y = y + 1\n",
    "    y = y/num * 100\n",
    "    coord.append([x,y])\n",
    "    \n",
    "coord1 = []\n",
    "for x1 in range(dmax):\n",
    "    y1 = 0\n",
    "    for i in ml_male_graph_nodes:\n",
    "        if (ml_male_graph_nodes[i] >= x1):\n",
    "            y1 = y1 + 1\n",
    "    y1 = y1/num * 100\n",
    "    coord1.append([x1,y1])"
   ]
  },
  {
   "cell_type": "code",
   "execution_count": 226,
   "metadata": {},
   "outputs": [
    {
     "data": {
      "text/plain": [
       "Text(0, 0.5, 'Percent')"
      ]
     },
     "execution_count": 226,
     "metadata": {},
     "output_type": "execute_result"
    },
    {
     "data": {
      "image/png": "[encoded data removed]",
      "text/plain": [
       "<Figure size 432x288 with 1 Axes>"
      ]
     },
     "metadata": {
      "needs_background": "light"
     },
     "output_type": "display_data"
    }
   ],
   "source": [
    "#graph for ml x degree\n",
    "plt.figure(5)\n",
    "x1 = [x[0] for x in coord]\n",
    "y1 = [x[1] for x in coord]\n",
    "x2 = [x1[0] for x1 in coord1]\n",
    "y2 = [x1[1] for x1 in coord1]\n",
    "plt.loglog(x1,y1, marker = \"o\", linewidth = 0, color =\"pink\")\n",
    "plt.loglog(x2,y2, marker = \"x\", linewidth = 0, color =\"blue\")\n",
    "plt.title(\"Percent of nodes of x degree for AI/ML\")\n",
    "plt.xlabel(\"degree (k)\")\n",
    "plt.ylabel(\"Percent\")"
   ]
  },
  {
   "cell_type": "code",
   "execution_count": 227,
   "metadata": {},
   "outputs": [
    {
     "name": "stdout",
     "output_type": "stream",
     "text": [
      "34\n",
      "7883\n",
      "CPU times: user 51.1 ms, sys: 3.01 ms, total: 54.1 ms\n",
      "Wall time: 59.2 ms\n"
     ]
    }
   ],
   "source": [
    "%%time\n",
    "\n",
    "#percent x degree ss \n",
    "\n",
    "\n",
    "degree_sequence = sorted([d for n, d in ss.degree()], reverse=True)\n",
    "# print \"Degree sequence\", degree_sequence\n",
    "dmax = max(degree_sequence)\n",
    "coord = []\n",
    "print(dmax)\n",
    "num = ss.number_of_nodes()\n",
    "print(num)\n",
    "\n",
    "for x in range(dmax):\n",
    "    y = 0\n",
    "    for i in ss_female_graph_nodes:\n",
    "        if (ss_female_graph_nodes[i] >= x):\n",
    "            y = y + 1\n",
    "    y = y/num * 100\n",
    "    coord.append([x,y])\n",
    "    \n",
    "coord1 = []\n",
    "for x1 in range(dmax):\n",
    "    y1 = 0\n",
    "    for i in ss_male_graph_nodes:\n",
    "        if (ss_male_graph_nodes[i] >= x1):\n",
    "            y1 = y1 + 1\n",
    "    y1 = y1/num * 100\n",
    "    coord1.append([x1,y1])"
   ]
  },
  {
   "cell_type": "code",
   "execution_count": 228,
   "metadata": {},
   "outputs": [
    {
     "data": {
      "text/plain": [
       "Text(0, 0.5, 'Percent')"
      ]
     },
     "execution_count": 228,
     "metadata": {},
     "output_type": "execute_result"
    },
    {
     "data": {
      "image/png": "[encoded data removed]",
      "text/plain": [
       "<Figure size 432x288 with 1 Axes>"
      ]
     },
     "metadata": {
      "needs_background": "light"
     },
     "output_type": "display_data"
    }
   ],
   "source": [
    "#graph for ss x degree\n",
    "plt.figure(6)\n",
    "x1 = [x[0] for x in coord]\n",
    "y1 = [x[1] for x in coord]\n",
    "x2 = [x1[0] for x1 in coord1]\n",
    "y2 = [x1[1] for x1 in coord1]\n",
    "plt.loglog(x1,y1, marker = \"o\", linewidth = 0, color =\"pink\")\n",
    "plt.loglog(x2,y2, marker = \"x\", linewidth = 0, color =\"blue\")\n",
    "plt.title(\"Percent of nodes of x degree for Systems Security\")\n",
    "plt.xlabel(\"degree (k)\")\n",
    "plt.ylabel(\"Percent\")"
   ]
  },
  {
   "cell_type": "code",
   "execution_count": null,
   "metadata": {},
   "outputs": [],
   "source": []
  }
 ],
 "metadata": {
  "kernelspec": {
   "display_name": "Python 3",
   "language": "python",
   "name": "python3"
  },
  "language_info": {
   "codemirror_mode": {
    "name": "ipython",
    "version": 3
   },
   "file_extension": ".py",
   "mimetype": "text/x-python",
   "name": "python",
   "nbconvert_exporter": "python",
   "pygments_lexer": "ipython3",
   "version": "3.7.3"
  }
 },
 "nbformat": 4,
 "nbformat_minor": 2
}
